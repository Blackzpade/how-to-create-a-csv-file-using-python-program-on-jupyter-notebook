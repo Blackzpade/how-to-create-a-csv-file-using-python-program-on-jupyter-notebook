{
 "cells": [
  {
   "cell_type": "code",
   "execution_count": 1,
   "id": "9856d91a-6174-472d-a8b9-b362756db77c",
   "metadata": {},
   "outputs": [
    {
     "name": "stdout",
     "output_type": "stream",
     "text": [
      "                                            Sentence\n",
      "0  The racecar zoomed past, a true marvel, as it ...\n",
      "1  A man, a plan, a canal, Panama! This famous pa...\n",
      "2  The dog barked loudly, while the cat sat quiet...\n",
      "3  The students learned about anagrams, rearrangi...\n",
      "4  The sun shone bright, and the moon glowed soft...\n",
      "5  The level of excitement was high as friends ga...\n",
      "6  A racecar driver named Bob raced around the tr...\n",
      "7  The civic duty of voting is essential for demo...\n",
      "8  The cat sat on the mat, watching the rat scurr...\n",
      "9  The word deified is a palindrome, reading the ...\n"
     ]
    }
   ],
   "source": [
    "\n",
    "import pandas as pd\n",
    "import re\n",
    "from collections import Counter, defaultdict\n",
    "from nltk import ngrams\n",
    "\n",
    "sentences = [\n",
    "    \"The racecar zoomed past, a true marvel, as it sped down the track, leaving everyone in awe of its speed.\",\n",
    "    \"A man, a plan, a canal, Panama! This famous palindrome showcases the cleverness of language and the joy of wordplay.\",\n",
    "    \"The dog barked loudly, while the cat sat quietly creating a scene of chaos and calm in the cozy room.\",\n",
    "    \"The students learned about anagrams, rearranging letters to form new words, like listen and silent sparking their creativity and fun.\",\n",
    "    \"The sun shone bright, and the moon glowed softly creating a beautiful contrast in the night sky, enchanting all who watched.\",\n",
    "    \"The level of excitement was high as friends gathered to celebrate, sharing laughter and joy, creating memories that would last forever.\",\n",
    "    \"A racecar driver named Bob raced around the track, showcasing his skills, while fans cheered loudly, creating an electric atmosphere.\",\n",
    "    \"The civic duty of voting is essential for democracy, as citizens express their opinions and shape the future of their nation.\",\n",
    "    \"The cat sat on the mat, watching the rat scurry away, while the dog barked loudly, creating a chaotic scene.\",\n",
    "    \"The word deified is a palindrome, reading the same backward and forward, illustrating the beauty and complexity of the English language.\"\n",
    "]\n",
    "\n",
    "\n",
    "df = pd.DataFrame(sentences, columns=[\"Sentence\"])\n",
    "\n",
    "\n",
    "df.to_csv(\"textdata.csv\", index=False)\n",
    "\n",
    "\n",
    "print(df)\n"
   ]
  },
  {
   "cell_type": "code",
   "execution_count": null,
   "id": "275c4622-688f-40f0-80da-95ce545cdace",
   "metadata": {},
   "outputs": [],
   "source": []
  }
 ],
 "metadata": {
  "kernelspec": {
   "display_name": "Python 3 (ipykernel)",
   "language": "python",
   "name": "python3"
  },
  "language_info": {
   "codemirror_mode": {
    "name": "ipython",
    "version": 3
   },
   "file_extension": ".py",
   "mimetype": "text/x-python",
   "name": "python",
   "nbconvert_exporter": "python",
   "pygments_lexer": "ipython3",
   "version": "3.12.7"
  }
 },
 "nbformat": 4,
 "nbformat_minor": 5
}
